{
 "cells": [
  {
   "cell_type": "code",
   "execution_count": 5,
   "metadata": {},
   "outputs": [],
   "source": [
    "from hparams import hparams\n",
    "import os \n",
    "\n",
    "import numpy as np\n",
    "import librosa\n",
    "import soundfile as sf\n",
    "                                        "
   ]
  },
  {
   "cell_type": "code",
   "execution_count": 2,
   "metadata": {},
   "outputs": [],
   "source": [
    "para = hparams()"
   ]
  },
  {
   "cell_type": "code",
   "execution_count": 49,
   "metadata": {},
   "outputs": [],
   "source": [
    "inv_fbank = np.load(\".\\inv_fbank\\ludong.npy\")\n",
    "S = librosa.feature.inverse.mel_to_stft(M=inv_fbank,sr =para.fs,)\n",
    "y = librosa.griffinlim(S=S,hop_length = para.hop_length)\n",
    "# inv_wav = librosa.feature.inverse.mel_to_audio(M=inv_fbank,\n",
    "#                                         sr =para.fs,\n",
    "#                                         n_fft = para.n_fft,\n",
    "#                                         win_length = para.win_length,\n",
    "#                                         hop_length = para.hop_length,\n",
    "#                                         fmin= para.fmin, \n",
    "#                                         fmax= para.fmax)\n"
   ]
  },
  {
   "cell_type": "code",
   "execution_count": 50,
   "metadata": {},
   "outputs": [],
   "source": [
    "# wav_out = y/max(y)   \n",
    "path_save = \"wav_result\" \n",
    "sf.write(os.path.join('ludong.wav'),y,para.fs)  "
   ]
  },
  {
   "cell_type": "code",
   "execution_count": null,
   "metadata": {},
   "outputs": [],
   "source": []
  }
 ],
 "metadata": {
  "kernelspec": {
   "display_name": "Python 3.8.12 ('pytorch')",
   "language": "python",
   "name": "python3"
  },
  "language_info": {
   "codemirror_mode": {
    "name": "ipython",
    "version": 3
   },
   "file_extension": ".py",
   "mimetype": "text/x-python",
   "name": "python",
   "nbconvert_exporter": "python",
   "pygments_lexer": "ipython3",
   "version": "3.8.12"
  },
  "orig_nbformat": 4,
  "vscode": {
   "interpreter": {
    "hash": "fca2af8e29c5e327ad6581504656561a8d3f8d266488abf9a40a1683e3d5eb82"
   }
  }
 },
 "nbformat": 4,
 "nbformat_minor": 2
}
